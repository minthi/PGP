{
 "cells": [
  {
   "cell_type": "markdown",
   "metadata": {},
   "source": [
    "### `Project - MovieLens Data Analysis`\n",
    "\n",
    "The GroupLens Research Project is a research group in the Department of Computer Science and Engineering at the University of Minnesota. The data is widely used for collaborative filtering and other filtering solutions. However, we will be using this data to act as a means to demonstrate our skill in using Python to “play” with data.\n",
    "\n",
    "\n",
    "### `Objective:`\n",
    "- To implement the techniques learnt as a part of the course.\n",
    "\n",
    "### `Learning Outcomes:`\n",
    "- Exploratory Data Analysis\n",
    "\n",
    "- Visualization using Python\n",
    "\n",
    "- Pandas – groupby, merging \n",
    "\n",
    "\n",
    "### `Domain` \n",
    "- Internet and Entertainment\n",
    "\n",
    "**Note that the project will need you to apply the concepts of groupby and merging extensively.**"
   ]
  },
  {
   "cell_type": "markdown",
   "metadata": {},
   "source": [
    "### `Datasets Information:`\n",
    "\n",
    "\n",
    "*rating.csv:* It contains information on ratings given by the users to a particular movie.\n",
    "- user id: id assigned to every user\n",
    "- movie id: id assigned to every movie\n",
    "- rating: rating given by the user\n",
    "- timestamp: Time recorded when the user gave a rating\n",
    "\n",
    "\n",
    "\n",
    "*movie.csv:* File contains information related to the movies and their genre.\n",
    "- movie id: id assigned to every movie\n",
    "- movie title: Title of the movie\n",
    "- release date: Date of release of the movie\n",
    "- Action: Genre containing binary values (1 - for action 0 - not action)\n",
    "- Adventure: Genre containing binary values (1 - for adventure 0 - not adventure)\n",
    "- Animation: Genre containing binary values (1 - for animation 0 - not animation)\n",
    "- Children’s: Genre containing binary values (1 - for children's 0 - not children's)\n",
    "- Comedy: Genre containing binary values (1 - for comedy 0 - not comedy)\n",
    "- Crime: Genre containing binary values (1 - for crime 0 - not crime)\n",
    "- Documentary: Genre containing binary values (1 - for documentary 0 - not documentary)\n",
    "- Drama: Genre containing binary values (1 - for drama 0 - not drama)\n",
    "- Fantasy: Genre containing binary values (1 - for fantasy 0 - not fantasy)\n",
    "- Film-Noir: Genre containing binary values (1 - for film-noir 0 - not film-noir)\n",
    "- Horror: Genre containing binary values (1 - for horror 0 - not horror)\n",
    "- Musical: Genre containing binary values (1 - for musical 0 - not musical)\n",
    "- Mystery: Genre containing binary values (1 - for mystery 0 - not mystery)\n",
    "- Romance: Genre containing binary values (1 - for romance 0 - not romance)\n",
    "- Sci-Fi: Genre containing binary values (1 - for sci-fi 0 - not sci-fi)\n",
    "- Thriller: Genre containing binary values (1 - for thriller 0 - not thriller)\n",
    "- War: Genre containing binary values (1 - for war 0 - not war)\n",
    "- Western: Genre containing binary values (1 - for western - not western)\n",
    "\n",
    "\n",
    "\n",
    "*user.csv:* It contains information of the users who have rated the movies.\n",
    "- user id: id assigned to every user\n",
    "- age: Age of the user\n",
    "- gender: Gender of the user\n",
    "- occupation: Occupation of the user\n",
    "- zip code: Zip code of the use\n",
    "\n",
    "\n",
    "**`Please provide you insights wherever necessary.`**"
   ]
  },
  {
   "cell_type": "markdown",
   "metadata": {},
   "source": [
    "### 1. Import the necessary packages - 2.5 marks"
   ]
  },
  {
   "cell_type": "code",
   "execution_count": 2,
   "metadata": {},
   "outputs": [],
   "source": [
    "import numpy as np\n",
    "import pandas as pd\n",
    "import seaborn as sns\n",
    "from matplotlib import pyplot as plt\n",
    "%matplotlib inline"
   ]
  },
  {
   "cell_type": "markdown",
   "metadata": {},
   "source": [
    "### 2. Read the 3 datasets into dataframes - 2.5 marks"
   ]
  },
  {
   "cell_type": "code",
   "execution_count": 2,
   "metadata": {
    "scrolled": true
   },
   "outputs": [],
   "source": [
    "Data = pd.read_csv('Data.csv')\n",
    "items = pd.read_csv('item.csv')\n",
    "users = pd.read_csv('user.csv')"
   ]
  },
  {
   "cell_type": "markdown",
   "metadata": {},
   "source": [
    "### 3. Apply info, shape, describe, and find the number of missing values in the data - 5 marks\n",
    " - Note that you will need to do it for all the three datasets seperately"
   ]
  },
  {
   "cell_type": "code",
   "execution_count": 11,
   "metadata": {},
   "outputs": [
    {
     "name": "stdout",
     "output_type": "stream",
     "text": [
      "<class 'pandas.core.frame.DataFrame'>\n",
      "RangeIndex: 100000 entries, 0 to 99999\n",
      "Data columns (total 4 columns):\n",
      " #   Column     Non-Null Count   Dtype\n",
      "---  ------     --------------   -----\n",
      " 0   user id    100000 non-null  int64\n",
      " 1   movie id   100000 non-null  int64\n",
      " 2   rating     100000 non-null  int64\n",
      " 3   timestamp  100000 non-null  int64\n",
      "dtypes: int64(4)\n",
      "memory usage: 3.1 MB\n"
     ]
    }
   ],
   "source": [
    "#Data info\n",
    "Data.info()"
   ]
  },
  {
   "cell_type": "code",
   "execution_count": 21,
   "metadata": {},
   "outputs": [
    {
     "data": {
      "text/plain": [
       "(100000, 4)"
      ]
     },
     "execution_count": 21,
     "metadata": {},
     "output_type": "execute_result"
    }
   ],
   "source": [
    "#Data shape\n",
    "Data.shape"
   ]
  },
  {
   "cell_type": "code",
   "execution_count": 33,
   "metadata": {},
   "outputs": [
    {
     "data": {
      "text/plain": [
       "<bound method NDFrame.describe of        user id  movie id  rating  timestamp\n",
       "0          196       242       3  881250949\n",
       "1          186       302       3  891717742\n",
       "2           22       377       1  878887116\n",
       "3          244        51       2  880606923\n",
       "4          166       346       1  886397596\n",
       "...        ...       ...     ...        ...\n",
       "99995      880       476       3  880175444\n",
       "99996      716       204       5  879795543\n",
       "99997      276      1090       1  874795795\n",
       "99998       13       225       2  882399156\n",
       "99999       12       203       3  879959583\n",
       "\n",
       "[100000 rows x 4 columns]>"
      ]
     },
     "execution_count": 33,
     "metadata": {},
     "output_type": "execute_result"
    }
   ],
   "source": [
    "#Data description #1\n",
    "Data.describe"
   ]
  },
  {
   "cell_type": "code",
   "execution_count": 34,
   "metadata": {},
   "outputs": [
    {
     "data": {
      "text/html": [
       "<div>\n",
       "<style scoped>\n",
       "    .dataframe tbody tr th:only-of-type {\n",
       "        vertical-align: middle;\n",
       "    }\n",
       "\n",
       "    .dataframe tbody tr th {\n",
       "        vertical-align: top;\n",
       "    }\n",
       "\n",
       "    .dataframe thead th {\n",
       "        text-align: right;\n",
       "    }\n",
       "</style>\n",
       "<table border=\"1\" class=\"dataframe\">\n",
       "  <thead>\n",
       "    <tr style=\"text-align: right;\">\n",
       "      <th></th>\n",
       "      <th>user id</th>\n",
       "      <th>movie id</th>\n",
       "      <th>rating</th>\n",
       "      <th>timestamp</th>\n",
       "    </tr>\n",
       "  </thead>\n",
       "  <tbody>\n",
       "    <tr>\n",
       "      <th>count</th>\n",
       "      <td>100000.00000</td>\n",
       "      <td>100000.000000</td>\n",
       "      <td>100000.000000</td>\n",
       "      <td>1.000000e+05</td>\n",
       "    </tr>\n",
       "    <tr>\n",
       "      <th>mean</th>\n",
       "      <td>462.48475</td>\n",
       "      <td>425.530130</td>\n",
       "      <td>3.529860</td>\n",
       "      <td>8.835289e+08</td>\n",
       "    </tr>\n",
       "    <tr>\n",
       "      <th>std</th>\n",
       "      <td>266.61442</td>\n",
       "      <td>330.798356</td>\n",
       "      <td>1.125674</td>\n",
       "      <td>5.343856e+06</td>\n",
       "    </tr>\n",
       "    <tr>\n",
       "      <th>min</th>\n",
       "      <td>1.00000</td>\n",
       "      <td>1.000000</td>\n",
       "      <td>1.000000</td>\n",
       "      <td>8.747247e+08</td>\n",
       "    </tr>\n",
       "    <tr>\n",
       "      <th>25%</th>\n",
       "      <td>254.00000</td>\n",
       "      <td>175.000000</td>\n",
       "      <td>3.000000</td>\n",
       "      <td>8.794487e+08</td>\n",
       "    </tr>\n",
       "    <tr>\n",
       "      <th>50%</th>\n",
       "      <td>447.00000</td>\n",
       "      <td>322.000000</td>\n",
       "      <td>4.000000</td>\n",
       "      <td>8.828269e+08</td>\n",
       "    </tr>\n",
       "    <tr>\n",
       "      <th>75%</th>\n",
       "      <td>682.00000</td>\n",
       "      <td>631.000000</td>\n",
       "      <td>4.000000</td>\n",
       "      <td>8.882600e+08</td>\n",
       "    </tr>\n",
       "    <tr>\n",
       "      <th>max</th>\n",
       "      <td>943.00000</td>\n",
       "      <td>1682.000000</td>\n",
       "      <td>5.000000</td>\n",
       "      <td>8.932866e+08</td>\n",
       "    </tr>\n",
       "  </tbody>\n",
       "</table>\n",
       "</div>"
      ],
      "text/plain": [
       "            user id       movie id         rating     timestamp\n",
       "count  100000.00000  100000.000000  100000.000000  1.000000e+05\n",
       "mean      462.48475     425.530130       3.529860  8.835289e+08\n",
       "std       266.61442     330.798356       1.125674  5.343856e+06\n",
       "min         1.00000       1.000000       1.000000  8.747247e+08\n",
       "25%       254.00000     175.000000       3.000000  8.794487e+08\n",
       "50%       447.00000     322.000000       4.000000  8.828269e+08\n",
       "75%       682.00000     631.000000       4.000000  8.882600e+08\n",
       "max       943.00000    1682.000000       5.000000  8.932866e+08"
      ]
     },
     "execution_count": 34,
     "metadata": {},
     "output_type": "execute_result"
    }
   ],
   "source": [
    "#Data description #2 with 5 point summary\n",
    "Data.describe()"
   ]
  },
  {
   "cell_type": "code",
   "execution_count": 14,
   "metadata": {},
   "outputs": [
    {
     "data": {
      "text/plain": [
       "user id      0\n",
       "movie id     0\n",
       "rating       0\n",
       "timestamp    0\n",
       "dtype: int64"
      ]
     },
     "execution_count": 14,
     "metadata": {},
     "output_type": "execute_result"
    }
   ],
   "source": [
    "#Data - missing data. No missing data\n",
    "Data.isna().sum()"
   ]
  },
  {
   "cell_type": "code",
   "execution_count": 16,
   "metadata": {},
   "outputs": [
    {
     "name": "stdout",
     "output_type": "stream",
     "text": [
      "<class 'pandas.core.frame.DataFrame'>\n",
      "RangeIndex: 1681 entries, 0 to 1680\n",
      "Data columns (total 22 columns):\n",
      " #   Column        Non-Null Count  Dtype \n",
      "---  ------        --------------  ----- \n",
      " 0   movie id      1681 non-null   int64 \n",
      " 1   movie title   1681 non-null   object\n",
      " 2   release date  1681 non-null   object\n",
      " 3   unknown       1681 non-null   int64 \n",
      " 4   Action        1681 non-null   int64 \n",
      " 5   Adventure     1681 non-null   int64 \n",
      " 6   Animation     1681 non-null   int64 \n",
      " 7   Childrens     1681 non-null   int64 \n",
      " 8   Comedy        1681 non-null   int64 \n",
      " 9   Crime         1681 non-null   int64 \n",
      " 10  Documentary   1681 non-null   int64 \n",
      " 11  Drama         1681 non-null   int64 \n",
      " 12  Fantasy       1681 non-null   int64 \n",
      " 13  Film-Noir     1681 non-null   int64 \n",
      " 14  Horror        1681 non-null   int64 \n",
      " 15  Musical       1681 non-null   int64 \n",
      " 16  Mystery       1681 non-null   int64 \n",
      " 17  Romance       1681 non-null   int64 \n",
      " 18  Sci-Fi        1681 non-null   int64 \n",
      " 19  Thriller      1681 non-null   int64 \n",
      " 20  War           1681 non-null   int64 \n",
      " 21  Western       1681 non-null   int64 \n",
      "dtypes: int64(20), object(2)\n",
      "memory usage: 289.0+ KB\n"
     ]
    }
   ],
   "source": [
    "#items info\n",
    "items.info()"
   ]
  },
  {
   "cell_type": "code",
   "execution_count": 17,
   "metadata": {},
   "outputs": [
    {
     "data": {
      "text/plain": [
       "(1681, 22)"
      ]
     },
     "execution_count": 17,
     "metadata": {},
     "output_type": "execute_result"
    }
   ],
   "source": [
    "#items shape\n",
    "items.shape"
   ]
  },
  {
   "cell_type": "code",
   "execution_count": 35,
   "metadata": {},
   "outputs": [
    {
     "data": {
      "text/plain": [
       "<bound method NDFrame.describe of       movie id                          movie title release date  unknown  \\\n",
       "0            1                           Toy Story   01-Jan-1995        0   \n",
       "1            2                           GoldenEye   01-Jan-1995        0   \n",
       "2            3                          Four Rooms   01-Jan-1995        0   \n",
       "3            4                          Get Shorty   01-Jan-1995        0   \n",
       "4            5                             Copycat   01-Jan-1995        0   \n",
       "...        ...                                  ...          ...      ...   \n",
       "1676      1678                          Mat' i syn   06-Feb-1998        0   \n",
       "1677      1679                           B. Monkey   06-Feb-1998        0   \n",
       "1678      1680                       Sliding Doors   01-Jan-1998        0   \n",
       "1679      1681                        You So Crazy   01-Jan-1994        0   \n",
       "1680      1682  Scream of Stone (Schrei aus Stein)   08-Mar-1996        0   \n",
       "\n",
       "      Action  Adventure  Animation  Childrens  Comedy  Crime  ...  Fantasy  \\\n",
       "0          0          0          1          1       1      0  ...        0   \n",
       "1          1          1          0          0       0      0  ...        0   \n",
       "2          0          0          0          0       0      0  ...        0   \n",
       "3          1          0          0          0       1      0  ...        0   \n",
       "4          0          0          0          0       0      1  ...        0   \n",
       "...      ...        ...        ...        ...     ...    ...  ...      ...   \n",
       "1676       0          0          0          0       0      0  ...        0   \n",
       "1677       0          0          0          0       0      0  ...        0   \n",
       "1678       0          0          0          0       0      0  ...        0   \n",
       "1679       0          0          0          0       1      0  ...        0   \n",
       "1680       0          0          0          0       0      0  ...        0   \n",
       "\n",
       "      Film-Noir  Horror  Musical  Mystery  Romance  Sci-Fi  Thriller  War  \\\n",
       "0             0       0        0        0        0       0         0    0   \n",
       "1             0       0        0        0        0       0         1    0   \n",
       "2             0       0        0        0        0       0         1    0   \n",
       "3             0       0        0        0        0       0         0    0   \n",
       "4             0       0        0        0        0       0         1    0   \n",
       "...         ...     ...      ...      ...      ...     ...       ...  ...   \n",
       "1676          0       0        0        0        0       0         0    0   \n",
       "1677          0       0        0        0        1       0         1    0   \n",
       "1678          0       0        0        0        1       0         0    0   \n",
       "1679          0       0        0        0        0       0         0    0   \n",
       "1680          0       0        0        0        0       0         0    0   \n",
       "\n",
       "      Western  \n",
       "0           0  \n",
       "1           0  \n",
       "2           0  \n",
       "3           0  \n",
       "4           0  \n",
       "...       ...  \n",
       "1676        0  \n",
       "1677        0  \n",
       "1678        0  \n",
       "1679        0  \n",
       "1680        0  \n",
       "\n",
       "[1681 rows x 22 columns]>"
      ]
     },
     "execution_count": 35,
     "metadata": {},
     "output_type": "execute_result"
    }
   ],
   "source": [
    "#items description #1\n",
    "items.describe"
   ]
  },
  {
   "cell_type": "code",
   "execution_count": 36,
   "metadata": {},
   "outputs": [
    {
     "data": {
      "text/html": [
       "<div>\n",
       "<style scoped>\n",
       "    .dataframe tbody tr th:only-of-type {\n",
       "        vertical-align: middle;\n",
       "    }\n",
       "\n",
       "    .dataframe tbody tr th {\n",
       "        vertical-align: top;\n",
       "    }\n",
       "\n",
       "    .dataframe thead th {\n",
       "        text-align: right;\n",
       "    }\n",
       "</style>\n",
       "<table border=\"1\" class=\"dataframe\">\n",
       "  <thead>\n",
       "    <tr style=\"text-align: right;\">\n",
       "      <th></th>\n",
       "      <th>movie id</th>\n",
       "      <th>unknown</th>\n",
       "      <th>Action</th>\n",
       "      <th>Adventure</th>\n",
       "      <th>Animation</th>\n",
       "      <th>Childrens</th>\n",
       "      <th>Comedy</th>\n",
       "      <th>Crime</th>\n",
       "      <th>Documentary</th>\n",
       "      <th>Drama</th>\n",
       "      <th>Fantasy</th>\n",
       "      <th>Film-Noir</th>\n",
       "      <th>Horror</th>\n",
       "      <th>Musical</th>\n",
       "      <th>Mystery</th>\n",
       "      <th>Romance</th>\n",
       "      <th>Sci-Fi</th>\n",
       "      <th>Thriller</th>\n",
       "      <th>War</th>\n",
       "      <th>Western</th>\n",
       "    </tr>\n",
       "  </thead>\n",
       "  <tbody>\n",
       "    <tr>\n",
       "      <th>count</th>\n",
       "      <td>1681.000000</td>\n",
       "      <td>1681.000000</td>\n",
       "      <td>1681.000000</td>\n",
       "      <td>1681.000000</td>\n",
       "      <td>1681.000000</td>\n",
       "      <td>1681.000000</td>\n",
       "      <td>1681.000000</td>\n",
       "      <td>1681.000000</td>\n",
       "      <td>1681.000000</td>\n",
       "      <td>1681.000000</td>\n",
       "      <td>1681.000000</td>\n",
       "      <td>1681.000000</td>\n",
       "      <td>1681.000000</td>\n",
       "      <td>1681.000000</td>\n",
       "      <td>1681.000000</td>\n",
       "      <td>1681.000000</td>\n",
       "      <td>1681.000000</td>\n",
       "      <td>1681.000000</td>\n",
       "      <td>1681.000000</td>\n",
       "      <td>1681.000000</td>\n",
       "    </tr>\n",
       "    <tr>\n",
       "      <th>mean</th>\n",
       "      <td>841.841761</td>\n",
       "      <td>0.000595</td>\n",
       "      <td>0.149316</td>\n",
       "      <td>0.080309</td>\n",
       "      <td>0.024985</td>\n",
       "      <td>0.072576</td>\n",
       "      <td>0.300416</td>\n",
       "      <td>0.064842</td>\n",
       "      <td>0.029744</td>\n",
       "      <td>0.431291</td>\n",
       "      <td>0.013087</td>\n",
       "      <td>0.014277</td>\n",
       "      <td>0.054729</td>\n",
       "      <td>0.033314</td>\n",
       "      <td>0.036288</td>\n",
       "      <td>0.146936</td>\n",
       "      <td>0.060083</td>\n",
       "      <td>0.149316</td>\n",
       "      <td>0.042237</td>\n",
       "      <td>0.016062</td>\n",
       "    </tr>\n",
       "    <tr>\n",
       "      <th>std</th>\n",
       "      <td>485.638077</td>\n",
       "      <td>0.024390</td>\n",
       "      <td>0.356506</td>\n",
       "      <td>0.271852</td>\n",
       "      <td>0.156126</td>\n",
       "      <td>0.259516</td>\n",
       "      <td>0.458576</td>\n",
       "      <td>0.246321</td>\n",
       "      <td>0.169931</td>\n",
       "      <td>0.495404</td>\n",
       "      <td>0.113683</td>\n",
       "      <td>0.118667</td>\n",
       "      <td>0.227519</td>\n",
       "      <td>0.179507</td>\n",
       "      <td>0.187061</td>\n",
       "      <td>0.354148</td>\n",
       "      <td>0.237712</td>\n",
       "      <td>0.356506</td>\n",
       "      <td>0.201189</td>\n",
       "      <td>0.125751</td>\n",
       "    </tr>\n",
       "    <tr>\n",
       "      <th>min</th>\n",
       "      <td>1.000000</td>\n",
       "      <td>0.000000</td>\n",
       "      <td>0.000000</td>\n",
       "      <td>0.000000</td>\n",
       "      <td>0.000000</td>\n",
       "      <td>0.000000</td>\n",
       "      <td>0.000000</td>\n",
       "      <td>0.000000</td>\n",
       "      <td>0.000000</td>\n",
       "      <td>0.000000</td>\n",
       "      <td>0.000000</td>\n",
       "      <td>0.000000</td>\n",
       "      <td>0.000000</td>\n",
       "      <td>0.000000</td>\n",
       "      <td>0.000000</td>\n",
       "      <td>0.000000</td>\n",
       "      <td>0.000000</td>\n",
       "      <td>0.000000</td>\n",
       "      <td>0.000000</td>\n",
       "      <td>0.000000</td>\n",
       "    </tr>\n",
       "    <tr>\n",
       "      <th>25%</th>\n",
       "      <td>422.000000</td>\n",
       "      <td>0.000000</td>\n",
       "      <td>0.000000</td>\n",
       "      <td>0.000000</td>\n",
       "      <td>0.000000</td>\n",
       "      <td>0.000000</td>\n",
       "      <td>0.000000</td>\n",
       "      <td>0.000000</td>\n",
       "      <td>0.000000</td>\n",
       "      <td>0.000000</td>\n",
       "      <td>0.000000</td>\n",
       "      <td>0.000000</td>\n",
       "      <td>0.000000</td>\n",
       "      <td>0.000000</td>\n",
       "      <td>0.000000</td>\n",
       "      <td>0.000000</td>\n",
       "      <td>0.000000</td>\n",
       "      <td>0.000000</td>\n",
       "      <td>0.000000</td>\n",
       "      <td>0.000000</td>\n",
       "    </tr>\n",
       "    <tr>\n",
       "      <th>50%</th>\n",
       "      <td>842.000000</td>\n",
       "      <td>0.000000</td>\n",
       "      <td>0.000000</td>\n",
       "      <td>0.000000</td>\n",
       "      <td>0.000000</td>\n",
       "      <td>0.000000</td>\n",
       "      <td>0.000000</td>\n",
       "      <td>0.000000</td>\n",
       "      <td>0.000000</td>\n",
       "      <td>0.000000</td>\n",
       "      <td>0.000000</td>\n",
       "      <td>0.000000</td>\n",
       "      <td>0.000000</td>\n",
       "      <td>0.000000</td>\n",
       "      <td>0.000000</td>\n",
       "      <td>0.000000</td>\n",
       "      <td>0.000000</td>\n",
       "      <td>0.000000</td>\n",
       "      <td>0.000000</td>\n",
       "      <td>0.000000</td>\n",
       "    </tr>\n",
       "    <tr>\n",
       "      <th>75%</th>\n",
       "      <td>1262.000000</td>\n",
       "      <td>0.000000</td>\n",
       "      <td>0.000000</td>\n",
       "      <td>0.000000</td>\n",
       "      <td>0.000000</td>\n",
       "      <td>0.000000</td>\n",
       "      <td>1.000000</td>\n",
       "      <td>0.000000</td>\n",
       "      <td>0.000000</td>\n",
       "      <td>1.000000</td>\n",
       "      <td>0.000000</td>\n",
       "      <td>0.000000</td>\n",
       "      <td>0.000000</td>\n",
       "      <td>0.000000</td>\n",
       "      <td>0.000000</td>\n",
       "      <td>0.000000</td>\n",
       "      <td>0.000000</td>\n",
       "      <td>0.000000</td>\n",
       "      <td>0.000000</td>\n",
       "      <td>0.000000</td>\n",
       "    </tr>\n",
       "    <tr>\n",
       "      <th>max</th>\n",
       "      <td>1682.000000</td>\n",
       "      <td>1.000000</td>\n",
       "      <td>1.000000</td>\n",
       "      <td>1.000000</td>\n",
       "      <td>1.000000</td>\n",
       "      <td>1.000000</td>\n",
       "      <td>1.000000</td>\n",
       "      <td>1.000000</td>\n",
       "      <td>1.000000</td>\n",
       "      <td>1.000000</td>\n",
       "      <td>1.000000</td>\n",
       "      <td>1.000000</td>\n",
       "      <td>1.000000</td>\n",
       "      <td>1.000000</td>\n",
       "      <td>1.000000</td>\n",
       "      <td>1.000000</td>\n",
       "      <td>1.000000</td>\n",
       "      <td>1.000000</td>\n",
       "      <td>1.000000</td>\n",
       "      <td>1.000000</td>\n",
       "    </tr>\n",
       "  </tbody>\n",
       "</table>\n",
       "</div>"
      ],
      "text/plain": [
       "          movie id      unknown       Action    Adventure    Animation  \\\n",
       "count  1681.000000  1681.000000  1681.000000  1681.000000  1681.000000   \n",
       "mean    841.841761     0.000595     0.149316     0.080309     0.024985   \n",
       "std     485.638077     0.024390     0.356506     0.271852     0.156126   \n",
       "min       1.000000     0.000000     0.000000     0.000000     0.000000   \n",
       "25%     422.000000     0.000000     0.000000     0.000000     0.000000   \n",
       "50%     842.000000     0.000000     0.000000     0.000000     0.000000   \n",
       "75%    1262.000000     0.000000     0.000000     0.000000     0.000000   \n",
       "max    1682.000000     1.000000     1.000000     1.000000     1.000000   \n",
       "\n",
       "         Childrens       Comedy        Crime  Documentary        Drama  \\\n",
       "count  1681.000000  1681.000000  1681.000000  1681.000000  1681.000000   \n",
       "mean      0.072576     0.300416     0.064842     0.029744     0.431291   \n",
       "std       0.259516     0.458576     0.246321     0.169931     0.495404   \n",
       "min       0.000000     0.000000     0.000000     0.000000     0.000000   \n",
       "25%       0.000000     0.000000     0.000000     0.000000     0.000000   \n",
       "50%       0.000000     0.000000     0.000000     0.000000     0.000000   \n",
       "75%       0.000000     1.000000     0.000000     0.000000     1.000000   \n",
       "max       1.000000     1.000000     1.000000     1.000000     1.000000   \n",
       "\n",
       "           Fantasy    Film-Noir       Horror      Musical      Mystery  \\\n",
       "count  1681.000000  1681.000000  1681.000000  1681.000000  1681.000000   \n",
       "mean      0.013087     0.014277     0.054729     0.033314     0.036288   \n",
       "std       0.113683     0.118667     0.227519     0.179507     0.187061   \n",
       "min       0.000000     0.000000     0.000000     0.000000     0.000000   \n",
       "25%       0.000000     0.000000     0.000000     0.000000     0.000000   \n",
       "50%       0.000000     0.000000     0.000000     0.000000     0.000000   \n",
       "75%       0.000000     0.000000     0.000000     0.000000     0.000000   \n",
       "max       1.000000     1.000000     1.000000     1.000000     1.000000   \n",
       "\n",
       "           Romance       Sci-Fi     Thriller          War      Western  \n",
       "count  1681.000000  1681.000000  1681.000000  1681.000000  1681.000000  \n",
       "mean      0.146936     0.060083     0.149316     0.042237     0.016062  \n",
       "std       0.354148     0.237712     0.356506     0.201189     0.125751  \n",
       "min       0.000000     0.000000     0.000000     0.000000     0.000000  \n",
       "25%       0.000000     0.000000     0.000000     0.000000     0.000000  \n",
       "50%       0.000000     0.000000     0.000000     0.000000     0.000000  \n",
       "75%       0.000000     0.000000     0.000000     0.000000     0.000000  \n",
       "max       1.000000     1.000000     1.000000     1.000000     1.000000  "
      ]
     },
     "execution_count": 36,
     "metadata": {},
     "output_type": "execute_result"
    }
   ],
   "source": [
    "#items description #2 with 5 point summary\n",
    "items.describe()"
   ]
  },
  {
   "cell_type": "code",
   "execution_count": 23,
   "metadata": {},
   "outputs": [
    {
     "data": {
      "text/plain": [
       "movie id        0\n",
       "movie title     0\n",
       "release date    0\n",
       "unknown         0\n",
       "Action          0\n",
       "Adventure       0\n",
       "Animation       0\n",
       "Childrens       0\n",
       "Comedy          0\n",
       "Crime           0\n",
       "Documentary     0\n",
       "Drama           0\n",
       "Fantasy         0\n",
       "Film-Noir       0\n",
       "Horror          0\n",
       "Musical         0\n",
       "Mystery         0\n",
       "Romance         0\n",
       "Sci-Fi          0\n",
       "Thriller        0\n",
       "War             0\n",
       "Western         0\n",
       "dtype: int64"
      ]
     },
     "execution_count": 23,
     "metadata": {},
     "output_type": "execute_result"
    }
   ],
   "source": [
    "#items - missing data. No missing data\n",
    "items.isna().sum()"
   ]
  },
  {
   "cell_type": "code",
   "execution_count": 24,
   "metadata": {},
   "outputs": [
    {
     "name": "stdout",
     "output_type": "stream",
     "text": [
      "<class 'pandas.core.frame.DataFrame'>\n",
      "RangeIndex: 943 entries, 0 to 942\n",
      "Data columns (total 5 columns):\n",
      " #   Column      Non-Null Count  Dtype \n",
      "---  ------      --------------  ----- \n",
      " 0   user id     943 non-null    int64 \n",
      " 1   age         943 non-null    int64 \n",
      " 2   gender      943 non-null    object\n",
      " 3   occupation  943 non-null    object\n",
      " 4   zip code    943 non-null    object\n",
      "dtypes: int64(2), object(3)\n",
      "memory usage: 37.0+ KB\n"
     ]
    }
   ],
   "source": [
    "#users info\n",
    "users.info()"
   ]
  },
  {
   "cell_type": "code",
   "execution_count": 25,
   "metadata": {},
   "outputs": [
    {
     "data": {
      "text/plain": [
       "(943, 5)"
      ]
     },
     "execution_count": 25,
     "metadata": {},
     "output_type": "execute_result"
    }
   ],
   "source": [
    "#users shape\n",
    "users.shape"
   ]
  },
  {
   "cell_type": "code",
   "execution_count": 37,
   "metadata": {},
   "outputs": [
    {
     "data": {
      "text/plain": [
       "<bound method NDFrame.describe of      user id  age gender     occupation zip code\n",
       "0          1   24      M     technician    85711\n",
       "1          2   53      F          other    94043\n",
       "2          3   23      M         writer    32067\n",
       "3          4   24      M     technician    43537\n",
       "4          5   33      F          other    15213\n",
       "..       ...  ...    ...            ...      ...\n",
       "938      939   26      F        student    33319\n",
       "939      940   32      M  administrator    02215\n",
       "940      941   20      M        student    97229\n",
       "941      942   48      F      librarian    78209\n",
       "942      943   22      M        student    77841\n",
       "\n",
       "[943 rows x 5 columns]>"
      ]
     },
     "execution_count": 37,
     "metadata": {},
     "output_type": "execute_result"
    }
   ],
   "source": [
    "#users description #1\n",
    "users.describe"
   ]
  },
  {
   "cell_type": "code",
   "execution_count": 38,
   "metadata": {},
   "outputs": [
    {
     "data": {
      "text/html": [
       "<div>\n",
       "<style scoped>\n",
       "    .dataframe tbody tr th:only-of-type {\n",
       "        vertical-align: middle;\n",
       "    }\n",
       "\n",
       "    .dataframe tbody tr th {\n",
       "        vertical-align: top;\n",
       "    }\n",
       "\n",
       "    .dataframe thead th {\n",
       "        text-align: right;\n",
       "    }\n",
       "</style>\n",
       "<table border=\"1\" class=\"dataframe\">\n",
       "  <thead>\n",
       "    <tr style=\"text-align: right;\">\n",
       "      <th></th>\n",
       "      <th>user id</th>\n",
       "      <th>age</th>\n",
       "    </tr>\n",
       "  </thead>\n",
       "  <tbody>\n",
       "    <tr>\n",
       "      <th>count</th>\n",
       "      <td>943.000000</td>\n",
       "      <td>943.000000</td>\n",
       "    </tr>\n",
       "    <tr>\n",
       "      <th>mean</th>\n",
       "      <td>472.000000</td>\n",
       "      <td>34.051962</td>\n",
       "    </tr>\n",
       "    <tr>\n",
       "      <th>std</th>\n",
       "      <td>272.364951</td>\n",
       "      <td>12.192740</td>\n",
       "    </tr>\n",
       "    <tr>\n",
       "      <th>min</th>\n",
       "      <td>1.000000</td>\n",
       "      <td>7.000000</td>\n",
       "    </tr>\n",
       "    <tr>\n",
       "      <th>25%</th>\n",
       "      <td>236.500000</td>\n",
       "      <td>25.000000</td>\n",
       "    </tr>\n",
       "    <tr>\n",
       "      <th>50%</th>\n",
       "      <td>472.000000</td>\n",
       "      <td>31.000000</td>\n",
       "    </tr>\n",
       "    <tr>\n",
       "      <th>75%</th>\n",
       "      <td>707.500000</td>\n",
       "      <td>43.000000</td>\n",
       "    </tr>\n",
       "    <tr>\n",
       "      <th>max</th>\n",
       "      <td>943.000000</td>\n",
       "      <td>73.000000</td>\n",
       "    </tr>\n",
       "  </tbody>\n",
       "</table>\n",
       "</div>"
      ],
      "text/plain": [
       "          user id         age\n",
       "count  943.000000  943.000000\n",
       "mean   472.000000   34.051962\n",
       "std    272.364951   12.192740\n",
       "min      1.000000    7.000000\n",
       "25%    236.500000   25.000000\n",
       "50%    472.000000   31.000000\n",
       "75%    707.500000   43.000000\n",
       "max    943.000000   73.000000"
      ]
     },
     "execution_count": 38,
     "metadata": {},
     "output_type": "execute_result"
    }
   ],
   "source": [
    "#users description #2 with 5 point summary\n",
    "users.describe()"
   ]
  },
  {
   "cell_type": "code",
   "execution_count": 27,
   "metadata": {},
   "outputs": [
    {
     "data": {
      "text/plain": [
       "user id       0\n",
       "age           0\n",
       "gender        0\n",
       "occupation    0\n",
       "zip code      0\n",
       "dtype: int64"
      ]
     },
     "execution_count": 27,
     "metadata": {},
     "output_type": "execute_result"
    }
   ],
   "source": [
    "#users - missing data. No missing data\n",
    "users.isna().sum()"
   ]
  },
  {
   "cell_type": "markdown",
   "metadata": {},
   "source": [
    "### 4. Find the number of movies per genre using the item data - 2.5 marks"
   ]
  },
  {
   "cell_type": "code",
   "execution_count": 30,
   "metadata": {},
   "outputs": [
    {
     "data": {
      "text/plain": [
       "movie id                                                  1415136\n",
       "movie title     Toy Story GoldenEye Four Rooms Get Shorty Copy...\n",
       "release date    01-Jan-199501-Jan-199501-Jan-199501-Jan-199501...\n",
       "unknown                                                         1\n",
       "Action                                                        251\n",
       "Adventure                                                     135\n",
       "Animation                                                      42\n",
       "Childrens                                                     122\n",
       "Comedy                                                        505\n",
       "Crime                                                         109\n",
       "Documentary                                                    50\n",
       "Drama                                                         725\n",
       "Fantasy                                                        22\n",
       "Film-Noir                                                      24\n",
       "Horror                                                         92\n",
       "Musical                                                        56\n",
       "Mystery                                                        61\n",
       "Romance                                                       247\n",
       "Sci-Fi                                                        101\n",
       "Thriller                                                      251\n",
       "War                                                            71\n",
       "Western                                                        27\n",
       "dtype: object"
      ]
     },
     "execution_count": 30,
     "metadata": {},
     "output_type": "execute_result"
    }
   ],
   "source": [
    "items.sum()"
   ]
  },
  {
   "cell_type": "markdown",
   "metadata": {},
   "source": [
    "### 5. Drop the movie where the genre is unknown - 2.5 marks"
   ]
  },
  {
   "cell_type": "code",
   "execution_count": 231,
   "metadata": {},
   "outputs": [
    {
     "name": "stdout",
     "output_type": "stream",
     "text": [
      "<class 'pandas.core.frame.DataFrame'>\n",
      "Int64Index: 1680 entries, 0 to 1680\n",
      "Data columns (total 22 columns):\n",
      " #   Column        Non-Null Count  Dtype \n",
      "---  ------        --------------  ----- \n",
      " 0   movie id      1680 non-null   int64 \n",
      " 1   movie title   1680 non-null   object\n",
      " 2   release date  1680 non-null   object\n",
      " 3   unknown       1680 non-null   int64 \n",
      " 4   Action        1680 non-null   int64 \n",
      " 5   Adventure     1680 non-null   int64 \n",
      " 6   Animation     1680 non-null   int64 \n",
      " 7   Childrens     1680 non-null   int64 \n",
      " 8   Comedy        1680 non-null   int64 \n",
      " 9   Crime         1680 non-null   int64 \n",
      " 10  Documentary   1680 non-null   int64 \n",
      " 11  Drama         1680 non-null   int64 \n",
      " 12  Fantasy       1680 non-null   int64 \n",
      " 13  Film-Noir     1680 non-null   int64 \n",
      " 14  Horror        1680 non-null   int64 \n",
      " 15  Musical       1680 non-null   int64 \n",
      " 16  Mystery       1680 non-null   int64 \n",
      " 17  Romance       1680 non-null   int64 \n",
      " 18  Sci-Fi        1680 non-null   int64 \n",
      " 19  Thriller      1680 non-null   int64 \n",
      " 20  War           1680 non-null   int64 \n",
      " 21  Western       1680 non-null   int64 \n",
      "dtypes: int64(20), object(2)\n",
      "memory usage: 301.9+ KB\n"
     ]
    }
   ],
   "source": [
    "genres=items\n",
    "genres=genres[genres.unknown != 1]\n",
    "known_genres = genres\n",
    "\n",
    "#confirm movie drop by looking at the count. Originally 1681 movies. One movie dropped with \"unknown\" genre associated\n",
    "known_genres.info()\n"
   ]
  },
  {
   "cell_type": "markdown",
   "metadata": {},
   "source": [
    "### 6. Find the movies that have more than one genre - 5 marks\n",
    "\n",
    "hint: use sum on the axis = 1\n",
    "\n",
    "Display movie name, number of genres for the movie in dataframe\n",
    "\n",
    "and also print(total number of movies which have more than one genres)"
   ]
  },
  {
   "cell_type": "code",
   "execution_count": 232,
   "metadata": {
    "scrolled": true
   },
   "outputs": [
    {
     "name": "stdout",
     "output_type": "stream",
     "text": [
      "\n",
      "\n",
      "There are 848 movies that have more than one genre.\n",
      "\n"
     ]
    },
    {
     "data": {
      "text/html": [
       "<div>\n",
       "<style scoped>\n",
       "    .dataframe tbody tr th:only-of-type {\n",
       "        vertical-align: middle;\n",
       "    }\n",
       "\n",
       "    .dataframe tbody tr th {\n",
       "        vertical-align: top;\n",
       "    }\n",
       "\n",
       "    .dataframe thead th {\n",
       "        text-align: right;\n",
       "    }\n",
       "</style>\n",
       "<table border=\"1\" class=\"dataframe\">\n",
       "  <thead>\n",
       "    <tr style=\"text-align: right;\">\n",
       "      <th></th>\n",
       "      <th>total</th>\n",
       "    </tr>\n",
       "    <tr>\n",
       "      <th>movie title</th>\n",
       "      <th></th>\n",
       "    </tr>\n",
       "  </thead>\n",
       "  <tbody>\n",
       "    <tr>\n",
       "      <th>'Til There Was You</th>\n",
       "      <td>2</td>\n",
       "    </tr>\n",
       "    <tr>\n",
       "      <th>101 Dalmatians</th>\n",
       "      <td>2</td>\n",
       "    </tr>\n",
       "    <tr>\n",
       "      <th>20,000 Leagues Under the Sea</th>\n",
       "      <td>4</td>\n",
       "    </tr>\n",
       "    <tr>\n",
       "      <th>2001: A Space Odyssey</th>\n",
       "      <td>4</td>\n",
       "    </tr>\n",
       "    <tr>\n",
       "      <th>3 Ninjas: High Noon At Mega Mountain</th>\n",
       "      <td>2</td>\n",
       "    </tr>\n",
       "    <tr>\n",
       "      <th>...</th>\n",
       "      <td>...</td>\n",
       "    </tr>\n",
       "    <tr>\n",
       "      <th>Yankee Zulu</th>\n",
       "      <td>2</td>\n",
       "    </tr>\n",
       "    <tr>\n",
       "      <th>Young Frankenstein</th>\n",
       "      <td>2</td>\n",
       "    </tr>\n",
       "    <tr>\n",
       "      <th>Young Guns</th>\n",
       "      <td>3</td>\n",
       "    </tr>\n",
       "    <tr>\n",
       "      <th>Young Guns II</th>\n",
       "      <td>3</td>\n",
       "    </tr>\n",
       "    <tr>\n",
       "      <th>Á köldum klaka (Cold Fever)</th>\n",
       "      <td>2</td>\n",
       "    </tr>\n",
       "  </tbody>\n",
       "</table>\n",
       "<p>848 rows × 1 columns</p>\n",
       "</div>"
      ],
      "text/plain": [
       "                                       total\n",
       "movie title                                 \n",
       "'Til There Was You                         2\n",
       "101 Dalmatians                             2\n",
       "20,000 Leagues Under the Sea               4\n",
       "2001: A Space Odyssey                      4\n",
       "3 Ninjas: High Noon At Mega Mountain       2\n",
       "...                                      ...\n",
       "Yankee Zulu                                2\n",
       "Young Frankenstein                         2\n",
       "Young Guns                                 3\n",
       "Young Guns II                              3\n",
       "Á köldum klaka (Cold Fever)                2\n",
       "\n",
       "[848 rows x 1 columns]"
      ]
     },
     "execution_count": 232,
     "metadata": {},
     "output_type": "execute_result"
    }
   ],
   "source": [
    "#Movies that have more than one genre\n",
    "count_genres = known_genres.groupby(['movie title'])[[\"unknown\",\"Action\", \"Adventure\", \"Animation\", \"Childrens\", \n",
    "                                                      \"Comedy\", \"Crime\", \"Documentary\", \"Drama\", \"Fantasy\", \n",
    "                                                      \"Film-Noir\", \"Horror\", \"Musical\", \"Mystery\", \"Romance\", \n",
    "                                                      \"Sci-Fi\", \"Thriller\", \"War\", \"Western\"]].sum()\n",
    "\n",
    "#only look at data subset dealing with titles and genres\n",
    "#convert to dataframe for further analysis\n",
    "row_sum = count_genres.sum(axis=1)\n",
    "items_df = pd.DataFrame(row_sum)\n",
    "\n",
    "#rename 0 column name\n",
    "items_df.rename(columns={0 :'total'}, inplace=True )\n",
    "\n",
    "#remove movies where genre is 1\n",
    "collect = items_df[items_df['total'] == 1].index\n",
    "items_df.drop(collect, inplace=True)\n",
    "\n",
    "#find length for output statement\n",
    "df_length = str(len(items_df))\n",
    "\n",
    "print(\"\")\n",
    "print(\"\")\n",
    "print(\"There are \" + df_length + \" movies that have more than one genre.\")\n",
    "print(\"\")\n",
    "\n",
    "#print dataframe with movies with more than one genre\n",
    "items_df"
   ]
  },
  {
   "cell_type": "markdown",
   "metadata": {},
   "source": [
    "### 7. Univariate plots of columns: 'rating', 'Age', 'release year', 'Gender' and 'Occupation' - 10 marks\n",
    "\n",
    "*HINT: Use distplot for age. Use lineplot or countplot for release year.*\n",
    "\n",
    "*HINT: Plot percentages in y-axis and categories in x-axis for ratings, gender and occupation*\n",
    "\n",
    "*HINT: Please refer to the below snippet to understand how to get to release year from release date. You can use str.split() as depicted below or you could convert it to pandas datetime format and extract year (.dt.year)*"
   ]
  },
  {
   "cell_type": "code",
   "execution_count": 141,
   "metadata": {},
   "outputs": [
    {
     "data": {
      "image/png": "[encoded data removed]",
      "text/plain": [
       "<Figure size 432x288 with 1 Axes>"
      ]
     },
     "metadata": {
      "needs_background": "light"
     },
     "output_type": "display_data"
    }
   ],
   "source": [
    "##AGE##------------------------------------------------------\n",
    "#distplot for age\n",
    "sns.distplot(users['age'], kde=True, rug=True);"
   ]
  },
  {
   "cell_type": "code",
   "execution_count": 205,
   "metadata": {
    "scrolled": true
   },
   "outputs": [
    {
     "data": {
      "image/png": "[encoded data removed]",
      "text/plain": [
       "<Figure size 1080x360 with 1 Axes>"
      ]
     },
     "metadata": {
      "needs_background": "light"
     },
     "output_type": "display_data"
    }
   ],
   "source": [
    "##RELEASE YEAR##-------------------------------------------------\n",
    "#countplot for release year\n",
    "#extract year from data first\n",
    "year=items\n",
    "\n",
    "#convert 'release date' object to datetime\n",
    "year = pd.to_datetime(year['release date'])\n",
    "year_df = pd.DataFrame(year)\n",
    "\n",
    "#extract only the year from datetime datatype\n",
    "year_df['Year'] = pd.DatetimeIndex(year_df['release date']).year\n",
    "\n",
    "#plot extracted year in countplot\n",
    "sns.countplot(x='Year', data=year_df);\n",
    "plt.xticks(rotation = 70);\n",
    "plt.rcParams['figure.figsize'] = (15.0, 5.0);"
   ]
  },
  {
   "cell_type": "code",
   "execution_count": 179,
   "metadata": {
    "scrolled": true
   },
   "outputs": [
    {
     "data": {
      "image/png": "[encoded data removed]",
      "text/plain": [
       "<Figure size 432x288 with 1 Axes>"
      ]
     },
     "metadata": {
      "needs_background": "light"
     },
     "output_type": "display_data"
    }
   ],
   "source": [
    "##RATINGS##----------------------------------------------------------\n",
    "#find how many rows are associated with rating\n",
    "Data_count=Data.groupby('rating').count()\n",
    "Data_countDF = pd.DataFrame(Data_count)\n",
    "Data_countDF.drop(['user id', 'timestamp'], axis='columns', inplace=True)\n",
    "\n",
    "#find total number of lines for y-axis percentage calculations\n",
    "total = len(Data)\n",
    "\n",
    "#calculate percentages of ratings for y-axis\n",
    "perc = Data_countDF['movie id'] = (Data_countDF['movie id'].div(total).round(2))*100\n",
    "\n",
    "#percentages associated with ratings\n",
    "perc_df = pd.DataFrame(perc)\n",
    "perc_df1=perc_df\n",
    "perc2=perc_df1.reset_index(drop=True)\n",
    "perc2.index+=1\n",
    "perc2.rename(columns={'movie id':'Movies'}, inplace=True )\n",
    "\n",
    "#plot \n",
    "perc2.plot(kind='bar', color=['pink']);\n",
    "plt.xlabel(\"Rating\");\n",
    "plt.ylabel(\"Percentages\");\n",
    "plt.xticks(rotation = 0);"
   ]
  },
  {
   "cell_type": "code",
   "execution_count": 187,
   "metadata": {},
   "outputs": [
    {
     "data": {
      "image/png": "[encoded data removed]",
      "text/plain": [
       "<Figure size 432x288 with 1 Axes>"
      ]
     },
     "metadata": {
      "needs_background": "light"
     },
     "output_type": "display_data"
    }
   ],
   "source": [
    "##GENDER##-----------------------------------------------------------------------------------------\n",
    "#get gender data\n",
    "genders=users\n",
    "\n",
    "#create percentages for y-axis\n",
    "genders1=genders['gender'].value_counts(normalize=True)\n",
    "genders2=genders1*100\n",
    "\n",
    "#plot\n",
    "genders2.plot(kind='bar', color=['navy','pink']);\n",
    "plt.xlabel(\"Gender\");\n",
    "plt.ylabel(\"Percentages\");\n",
    "plt.xticks(rotation = 0);"
   ]
  },
  {
   "cell_type": "code",
   "execution_count": 190,
   "metadata": {},
   "outputs": [
    {
     "data": {
      "image/png": "[encoded data removed]",
      "text/plain": [
       "<Figure size 432x288 with 1 Axes>"
      ]
     },
     "metadata": {
      "needs_background": "light"
     },
     "output_type": "display_data"
    }
   ],
   "source": [
    "##OCCUPATION##-----------------------------------------------------------\n",
    "#get occupation data\n",
    "occu=users\n",
    "\n",
    "#create percentages for y-axis\n",
    "occu1=occu['occupation'].value_counts(normalize=True)\n",
    "occu2=occu1*100\n",
    "\n",
    "#plot\n",
    "occu2.plot(kind='bar');\n",
    "plt.xlabel(\"Occupation\");\n",
    "plt.ylabel(\"Percentages\");"
   ]
  },
  {
   "cell_type": "code",
   "execution_count": 18,
   "metadata": {},
   "outputs": [
    {
     "name": "stdout",
     "output_type": "stream",
     "text": [
      "brown\n",
      "brown\n",
      "brown\n"
     ]
    }
   ],
   "source": [
    "a = 'My*cat*is*brown'\n",
    "print(a.split('*')[3])\n",
    "\n",
    "#similarly, the release year needs to be taken out from release date\n",
    "\n",
    "#also you can simply slice existing string to get the desired data, if we want to take out the colour of the cat\n",
    "\n",
    "print(a[10:])\n",
    "print(a[-5:])"
   ]
  },
  {
   "cell_type": "markdown",
   "metadata": {},
   "source": [
    "### 8. Visualize how popularity of genres has changed over the years - 10 marks\n",
    "\n",
    "Note that you need to use the **percent of number of releases in a year** as a parameter of popularity of a genre\n",
    "\n",
    "Hint 1: You need to reach to a data frame where the release year is the index and the genre is the column names (one cell shows the number of release in a year in one genre) or vice versa. (Drop unnecessary column if there are any)\n",
    "\n",
    "Hint 2: Find the total number of movies release in a year(use `sum(axis=1)` store that value in a new column as 'total'). Now divide the value of each genre in that year by total to get percentage number of release in a particular year.\n",
    "`(df.div(df['total'], axis= 0) * 100)`\n",
    "\n",
    "Once that is achieved, you can either use univariate plots or can use the heatmap to visualise all the changes over the years \n",
    "in one go. \n",
    "\n",
    "Hint 3: Use groupby on the relevant column and use sum() on the same to find out the number of releases in a year/genre.  "
   ]
  },
  {
   "cell_type": "code",
   "execution_count": 478,
   "metadata": {
    "scrolled": false
   },
   "outputs": [
    {
     "data": {
      "image/png": "[encoded data removed]",
      "text/plain": [
       "<Figure size 1080x1080 with 2 Axes>"
      ]
     },
     "metadata": {
      "needs_background": "light"
     },
     "output_type": "display_data"
    }
   ],
   "source": [
    "#extract release year-----------------------------------------------\n",
    "Ryear=items\n",
    "\n",
    "#convert 'release date' object to datetime\n",
    "Ryear ['Year']=pd.DatetimeIndex(Ryear['release date']).year\n",
    "#-------------------------------------------------------------------\n",
    "#drop unneccessary columns\n",
    "newRyear = Ryear.drop('movie id',axis='columns', inplace=False)\n",
    "newRyear2 = newRyear.drop('release date',axis='columns', inplace=False)\n",
    "\n",
    "#--------------------------------------------------------------------\n",
    "#find genre sums per year\n",
    "countg = newRyear2.groupby(['Year'])[[\"unknown\",\"Action\", \"Adventure\", \"Animation\", \"Childrens\", \n",
    "                                                      \"Comedy\", \"Crime\", \"Documentary\", \"Drama\", \"Fantasy\", \n",
    "                                                      \"Film-Noir\", \"Horror\", \"Musical\", \"Mystery\", \"Romance\", \n",
    "                                                      \"Sci-Fi\", \"Thriller\", \"War\", \"Western\"]].sum()\n",
    "#-------------------------------------------------------------------------\n",
    "#find total number of genres per year\n",
    "ncountg=countg\n",
    "ncountg[\"Total Yearly Genres\"]=ncountg.sum(axis=1)\n",
    "\n",
    "#find percentages of genres per year. genre X/total genres that year\n",
    "perc = ncountg.loc[:, \"unknown\":\"Western\"].div(ncountg[\"Total Yearly Genres\"], axis=0)*100\n",
    "plotperc=perc.round(2)\n",
    "\n",
    "#plot in heatmap\n",
    "plt.figure(figsize=(15,15))\n",
    "\n",
    "sns.heatmap(plotperc, annot=True, fmt='g');\n",
    "\n",
    "#Conclusion:\n",
    "#Overall, popular genres have been focused around first Drama, secondly Comedy and thirdly Horror. \n",
    "#There has not been a steady up/down change in any one particular genre in the past 80 years.\n",
    "#The below numbers are percentages per genre per year going across, and the right side is also a percentage column 0-100%."
   ]
  },
  {
   "cell_type": "markdown",
   "metadata": {},
   "source": [
    "### 9. Find the top 25 movies according to average ratings such that each movie has number of ratings more than 100 - 10 marks\n",
    "\n",
    "Hints : \n",
    "\n",
    "1. Find the count of ratings and average ratings for every movie.\n",
    "2. Slice the movies which have ratings more than 100.\n",
    "3. Sort values according to average rating such that movie which highest rating is on top.\n",
    "4. Select top 25 movies.\n",
    "5. You will have to use the .merge() function to get the movie titles.\n",
    "\n",
    "Note: This question will need you to research about groupby and apply your findings. You can find more on groupby on https://realpython.com/pandas-groupby/."
   ]
  },
  {
   "cell_type": "code",
   "execution_count": 572,
   "metadata": {},
   "outputs": [
    {
     "data": {
      "text/html": [
       "<div>\n",
       "<style scoped>\n",
       "    .dataframe tbody tr th:only-of-type {\n",
       "        vertical-align: middle;\n",
       "    }\n",
       "\n",
       "    .dataframe tbody tr th {\n",
       "        vertical-align: top;\n",
       "    }\n",
       "\n",
       "    .dataframe thead th {\n",
       "        text-align: right;\n",
       "    }\n",
       "</style>\n",
       "<table border=\"1\" class=\"dataframe\">\n",
       "  <thead>\n",
       "    <tr style=\"text-align: right;\">\n",
       "      <th></th>\n",
       "      <th>movie title</th>\n",
       "      <th>rating</th>\n",
       "    </tr>\n",
       "  </thead>\n",
       "  <tbody>\n",
       "    <tr>\n",
       "      <th>0</th>\n",
       "      <td>Close Shave, A</td>\n",
       "      <td>4.49</td>\n",
       "    </tr>\n",
       "    <tr>\n",
       "      <th>1</th>\n",
       "      <td>Schindler's List</td>\n",
       "      <td>4.47</td>\n",
       "    </tr>\n",
       "    <tr>\n",
       "      <th>2</th>\n",
       "      <td>Wrong Trousers, The</td>\n",
       "      <td>4.47</td>\n",
       "    </tr>\n",
       "    <tr>\n",
       "      <th>3</th>\n",
       "      <td>Casablanca</td>\n",
       "      <td>4.46</td>\n",
       "    </tr>\n",
       "    <tr>\n",
       "      <th>4</th>\n",
       "      <td>Shawshank Redemption, The</td>\n",
       "      <td>4.45</td>\n",
       "    </tr>\n",
       "    <tr>\n",
       "      <th>5</th>\n",
       "      <td>Rear Window</td>\n",
       "      <td>4.39</td>\n",
       "    </tr>\n",
       "    <tr>\n",
       "      <th>6</th>\n",
       "      <td>Usual Suspects, The</td>\n",
       "      <td>4.39</td>\n",
       "    </tr>\n",
       "    <tr>\n",
       "      <th>7</th>\n",
       "      <td>Star Wars</td>\n",
       "      <td>4.36</td>\n",
       "    </tr>\n",
       "    <tr>\n",
       "      <th>8</th>\n",
       "      <td>12 Angry Men</td>\n",
       "      <td>4.34</td>\n",
       "    </tr>\n",
       "    <tr>\n",
       "      <th>9</th>\n",
       "      <td>Citizen Kane</td>\n",
       "      <td>4.29</td>\n",
       "    </tr>\n",
       "    <tr>\n",
       "      <th>10</th>\n",
       "      <td>To Kill a Mockingbird</td>\n",
       "      <td>4.29</td>\n",
       "    </tr>\n",
       "    <tr>\n",
       "      <th>11</th>\n",
       "      <td>One Flew Over the Cuckoo's Nest</td>\n",
       "      <td>4.29</td>\n",
       "    </tr>\n",
       "    <tr>\n",
       "      <th>12</th>\n",
       "      <td>Silence of the Lambs, The</td>\n",
       "      <td>4.29</td>\n",
       "    </tr>\n",
       "    <tr>\n",
       "      <th>13</th>\n",
       "      <td>North by Northwest</td>\n",
       "      <td>4.28</td>\n",
       "    </tr>\n",
       "    <tr>\n",
       "      <th>14</th>\n",
       "      <td>Godfather, The</td>\n",
       "      <td>4.28</td>\n",
       "    </tr>\n",
       "    <tr>\n",
       "      <th>15</th>\n",
       "      <td>Secrets &amp; Lies</td>\n",
       "      <td>4.27</td>\n",
       "    </tr>\n",
       "    <tr>\n",
       "      <th>16</th>\n",
       "      <td>Good Will Hunting</td>\n",
       "      <td>4.26</td>\n",
       "    </tr>\n",
       "    <tr>\n",
       "      <th>17</th>\n",
       "      <td>Manchurian Candidate, The</td>\n",
       "      <td>4.26</td>\n",
       "    </tr>\n",
       "    <tr>\n",
       "      <th>18</th>\n",
       "      <td>Dr. Strangelove or: How I Learned to Stop Worr...</td>\n",
       "      <td>4.25</td>\n",
       "    </tr>\n",
       "    <tr>\n",
       "      <th>19</th>\n",
       "      <td>Raiders of the Lost Ark</td>\n",
       "      <td>4.25</td>\n",
       "    </tr>\n",
       "    <tr>\n",
       "      <th>20</th>\n",
       "      <td>Vertigo</td>\n",
       "      <td>4.25</td>\n",
       "    </tr>\n",
       "    <tr>\n",
       "      <th>21</th>\n",
       "      <td>Titanic</td>\n",
       "      <td>4.25</td>\n",
       "    </tr>\n",
       "    <tr>\n",
       "      <th>22</th>\n",
       "      <td>Lawrence of Arabia</td>\n",
       "      <td>4.23</td>\n",
       "    </tr>\n",
       "    <tr>\n",
       "      <th>23</th>\n",
       "      <td>Maltese Falcon, The</td>\n",
       "      <td>4.21</td>\n",
       "    </tr>\n",
       "    <tr>\n",
       "      <th>24</th>\n",
       "      <td>Empire Strikes Back, The</td>\n",
       "      <td>4.20</td>\n",
       "    </tr>\n",
       "  </tbody>\n",
       "</table>\n",
       "</div>"
      ],
      "text/plain": [
       "                                          movie title  rating\n",
       "0                                     Close Shave, A     4.49\n",
       "1                                   Schindler's List     4.47\n",
       "2                                Wrong Trousers, The     4.47\n",
       "3                                         Casablanca     4.46\n",
       "4                          Shawshank Redemption, The     4.45\n",
       "5                                        Rear Window     4.39\n",
       "6                                Usual Suspects, The     4.39\n",
       "7                                          Star Wars     4.36\n",
       "8                                       12 Angry Men     4.34\n",
       "9                                       Citizen Kane     4.29\n",
       "10                             To Kill a Mockingbird     4.29\n",
       "11                   One Flew Over the Cuckoo's Nest     4.29\n",
       "12                         Silence of the Lambs, The     4.29\n",
       "13                                North by Northwest     4.28\n",
       "14                                    Godfather, The     4.28\n",
       "15                                    Secrets & Lies     4.27\n",
       "16                                 Good Will Hunting     4.26\n",
       "17                         Manchurian Candidate, The     4.26\n",
       "18  Dr. Strangelove or: How I Learned to Stop Worr...    4.25\n",
       "19                           Raiders of the Lost Ark     4.25\n",
       "20                                           Vertigo     4.25\n",
       "21                                           Titanic     4.25\n",
       "22                                Lawrence of Arabia     4.23\n",
       "23                               Maltese Falcon, The     4.21\n",
       "24                          Empire Strikes Back, The     4.20"
      ]
     },
     "execution_count": 572,
     "metadata": {},
     "output_type": "execute_result"
    }
   ],
   "source": [
    "#clean/remove unneccary columns\n",
    "nData = Data.drop('user id', axis='columns', inplace=False)\n",
    "nData = nData.drop('timestamp', axis='columns', inplace=False)\n",
    "\n",
    "#find count of ratings/movie id\n",
    "nDatan=nData.groupby('movie id').count()\n",
    "\n",
    "#keep only movie id's where rating count is >= 100 \n",
    "nDatan=nDatan[nDatan.rating >= 100]\n",
    "\n",
    "#ensure to place rating count descending\n",
    "sdata = nDatan.sort_values(['rating'], ascending=[False])\n",
    "\n",
    "top = sdata\n",
    "\n",
    "#reacquire individual ratings per movie id to find mean\n",
    "newtop = top.merge(Data,on='movie id',how ='outer')\n",
    "\n",
    "#drop unnecessary columns\n",
    "newtop1 = newtop.drop('user id', axis='columns', inplace=False)\n",
    "newtop2 = newtop1.drop('timestamp', axis='columns', inplace=False)\n",
    "\n",
    "#drop rows where there is NaN data and other unneeded columns\n",
    "newtop3 = newtop2.dropna()\n",
    "newtop4 = newtop3.drop('rating_x', axis='columns', inplace=False)\n",
    "\n",
    "#find the rating averages with movie id's\n",
    "newtop5 = newtop4.groupby('movie id').mean()\n",
    "newtop6 = newtop5.sort_values(['rating_y'],ascending=[False])\n",
    "\n",
    "#select top 25 highest mean rated movie id's\n",
    "newtop7 = newtop6.head(25)\n",
    "\n",
    "#merge with item csv to get movie titles\n",
    "newtop8 = pd.merge(newtop7,items, how='left', on='movie id')[['movie title', 'rating_y']]\n",
    "newtop8 = newtop8.rename(columns={\"rating_y\": \"rating\"})\n",
    "newtop8 = newtop8.round(2)\n",
    "newtop8\n"
   ]
  },
  {
   "cell_type": "markdown",
   "metadata": {},
   "source": [
    "### 10. See gender distribution across different genres check for the validity of the below statements - 10 marks\n",
    "\n",
    "* Men watch more drama than women\n",
    "* Women watch more Sci-Fi than men\n",
    "* Men watch more Romance than women\n",
    "\n",
    "**compare the percentages**"
   ]
  },
  {
   "cell_type": "markdown",
   "metadata": {},
   "source": [
    "1. Merge all the datasets\n",
    "\n",
    "2. There is no need to conduct statistical tests around this. Just **compare the percentages** and comment on the validity of the above statements.\n",
    "\n",
    "3. you might want ot use the .sum(), .div() function here.\n",
    "\n",
    "4. Use number of ratings to validate the numbers. For example, if out of 4000 ratings received by women, 3000 are for drama, we will assume that 75% of the women watch drama."
   ]
  },
  {
   "cell_type": "code",
   "execution_count": 237,
   "metadata": {
    "scrolled": true
   },
   "outputs": [
    {
     "name": "stdout",
     "output_type": "stream",
     "text": [
      "          Drama  Romance   Sci-Fi    Total\n",
      "gender                                    \n",
      "M       28887.0  13603.0  10101.0  52591.0\n",
      "\n",
      "\n",
      "          Drama  Romance  Sci-Fi    Total\n",
      "gender                                   \n",
      "F       11008.0   5858.0  2629.0  19495.0\n"
     ]
    }
   ],
   "source": [
    "#Use number of ratings to validate the numbers. For example, if out of 4000 ratings received by women, \n",
    "#3000 are for drama, we will assume that 75% of the women watch drama.\n",
    "\n",
    "#rerun to ensure data is clean\n",
    "Data = pd.read_csv('Data.csv')\n",
    "items = pd.read_csv('item.csv')\n",
    "users = pd.read_csv('user.csv')\n",
    "\n",
    "#Merge all the datasets\n",
    "two=pd.merge(Data,users, how='outer', on='user id')\n",
    "df=pd.merge(two,items, how='outer', on='movie id')\n",
    "\n",
    "tidy=df.groupby(['user id','gender'])[[\"Drama\",\"Romance\",\"Sci-Fi\"]].sum()\n",
    "tidy1=pd.DataFrame(tidy)\n",
    "tidy2=tidy1.groupby(['gender','user id']).sum()\n",
    "tidy3=pd.DataFrame(tidy2)\n",
    "\n",
    "#find male related rated genres\n",
    "tidy4=tidy3.query('gender==\"M\"')\n",
    "tidy5=tidy4.groupby(['gender'])[[\"Drama\",\"Romance\",\"Sci-Fi\"]].sum()\n",
    "tidy5['Total']=tidy5.sum(axis=1)\n",
    "print(tidy5)\n",
    "print(\"\")\n",
    "print(\"\")\n",
    "\n",
    "#find female related rated genres\n",
    "f=tidy3.query('gender==\"F\"')\n",
    "f1=f.groupby(['gender'])[[\"Drama\",\"Romance\",\"Sci-Fi\"]].sum()\n",
    "f1['Total']=f1.sum(axis=1)\n",
    "print(f1)\n",
    "\n",
    "#Conclusions about statements give:\n",
    "# \"Men watch more drama than women\"---FALSE!!!\n",
    "##Men:(28887/52591)*100 = 54.93%\n",
    "##Women: (11008/19495)*100 = 56.47%\n",
    "\n",
    "# \"Women watch more Sci-Fi than men\"---FALSE!!!\n",
    "##Men: (10101/52591)*100 = 19.21%\n",
    "##Women: (2629/19495)*100 = 13.49%\n",
    "\n",
    "# \"Men watch more Romance than women\"---FALSE!!!\n",
    "##Men(13603/52591)*100 = 25.87%\n",
    "##Women (5858/19495)*100 = 30.05%"
   ]
  }
 ],
 "metadata": {
  "kernelspec": {
   "display_name": "Python 3",
   "language": "python",
   "name": "python3"
  },
  "language_info": {
   "codemirror_mode": {
    "name": "ipython",
    "version": 3
   },
   "file_extension": ".py",
   "mimetype": "text/x-python",
   "name": "python",
   "nbconvert_exporter": "python",
   "pygments_lexer": "ipython3",
   "version": "3.8.3"
  }
 },
 "nbformat": 4,
 "nbformat_minor": 2
}
